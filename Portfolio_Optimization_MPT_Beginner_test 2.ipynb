{
 "cells": [
  {
   "cell_type": "markdown",
   "id": "9e126240",
   "metadata": {},
   "source": [
    "# 📈 Portfolio Optimization with Modern Portfolio Theory (MPT)\n",
    "\n",
    "Welcome! In this project, we’ll build an optimized stock portfolio using **Modern Portfolio Theory**.\n",
    "\n",
    "This notebook is designed for beginners, with step-by-step explanations."
   ]
  },
  {
   "cell_type": "markdown",
   "id": "c64514de",
   "metadata": {},
   "source": [
    "## 🎯 Objective\n",
    "We aim to:\n",
    "- Download stock data\n",
    "- Calculate returns and risk\n",
    "- Simulate portfolios\n",
    "- Identify the best one using the **Sharpe Ratio**"
   ]
  },
  {
   "cell_type": "code",
   "execution_count": 16,
   "id": "f1afc848",
   "metadata": {},
   "outputs": [],
   "source": [
    "import numpy as np\n",
    "import pandas as pd\n",
    "import matplotlib.pyplot as plt\n",
    "import yfinance as yf\n",
    "from scipy.optimize import minimize\n",
    "\n",
    "%matplotlib inline"
   ]
  },
  {
   "cell_type": "markdown",
   "id": "7d95c2c5",
   "metadata": {},
   "source": [
    "## 💼 Step 1: Choose Your Stocks"
   ]
  },
  {
   "cell_type": "code",
   "execution_count": 31,
   "id": "32915d31",
   "metadata": {},
   "outputs": [
    {
     "name": "stdout",
     "output_type": "stream",
     "text": [
      "Selected Stocks:\n",
      "1. Apple (AAPL)\n",
      "2. Microsoft (MSFT)\n",
      "3. Alphabet (Google) (GOOGL)\n",
      "4. Amazon (AMZN)\n",
      "5. Meta (Facebook) (META)\n"
     ]
    }
   ],
   "source": [
    "tickers = ['AAPL', 'MSFT', 'GOOGL', 'AMZN', 'META']  # You can customize this list\n",
    "stock_names = ['Apple', 'Microsoft', 'Alphabet (Google)', 'Amazon', 'Meta (Facebook)']\n",
    "\n",
    "print(\"Selected Stocks:\")\n",
    "for i, (ticker, name) in enumerate(zip(tickers, stock_names)):\n",
    "    print(f\"{i+1}. {name} ({ticker})\")"
   ]
  },
  {
   "cell_type": "markdown",
   "id": "24ed32b5",
   "metadata": {},
   "source": [
    "## 📥 Step 2: Download Historical Data"
   ]
  },
  {
   "cell_type": "code",
   "execution_count": 32,
   "id": "18756ac8",
   "metadata": {},
   "outputs": [
    {
     "name": "stderr",
     "output_type": "stream",
     "text": [
      "[*********************100%***********************]  5 of 5 completed\n"
     ]
    }
   ],
   "source": [
    "data = yf.download(tickers, start='2018-01-01', end='2023-01-01', auto_adjust=False)\n",
    "data.dropna(inplace=True)\n",
    "adj_close_data = data['Adj Close']"
   ]
  },
  {
   "cell_type": "markdown",
   "id": "59478fb4",
   "metadata": {},
   "source": [
    "## 🔁 Step 3: Calculate Daily Returns"
   ]
  },
  {
   "cell_type": "code",
   "execution_count": 33,
   "id": "fd5f5e7e",
   "metadata": {},
   "outputs": [],
   "source": [
    "daily_returns = adj_close_data.pct_change().dropna()"
   ]
  },
  {
   "cell_type": "markdown",
   "id": "f81bf6da",
   "metadata": {},
   "source": [
    "## 📊 Step 4: Calculate Mean Returns and Covariance"
   ]
  },
  {
   "cell_type": "code",
   "execution_count": 34,
   "id": "e6fecf56",
   "metadata": {},
   "outputs": [],
   "source": [
    "mean_returns = daily_returns.mean() * 252\n",
    "cov_matrix = daily_returns.cov() * 252\n"
   ]
  },
  {
   "cell_type": "markdown",
   "id": "57e48aec",
   "metadata": {},
   "source": [
    "## ⚙️ Step 5: Define Portfolio Performance Functions"
   ]
  },
  {
   "cell_type": "code",
   "execution_count": 35,
   "id": "3f5a0b70",
   "metadata": {},
   "outputs": [],
   "source": [
    "def portfolio_performance(weights, mean_returns, cov_matrix):\n",
    "    returns = np.dot(weights, mean_returns)\n",
    "    std = np.sqrt(np.dot(weights.T, np.dot(cov_matrix, weights)))\n",
    "    return returns, std\n"
   ]
  },
  {
   "cell_type": "code",
   "execution_count": 36,
   "id": "6b7ff733",
   "metadata": {},
   "outputs": [],
   "source": [
    "def negative_sharpe_ratio(weights, mean_returns, cov_matrix, risk_free_rate=0.01):\n",
    "    p_return, p_volatility = portfolio_performance(weights, mean_returns, cov_matrix)\n",
    "    if p_volatility == 0:\n",
    "        return 1e10  # penalize zero volatility portfolios\n",
    "    sharpe = (p_return - risk_free_rate) / p_volatility\n",
    "    return -sharpe"
   ]
  },
  {
   "cell_type": "markdown",
   "id": "6cff9bcb",
   "metadata": {},
   "source": [
    "## 🚧 Step 6: Optimization Constraints"
   ]
  },
  {
   "cell_type": "code",
   "execution_count": 37,
   "id": "a67e925b",
   "metadata": {},
   "outputs": [],
   "source": [
    "num_assets = len(tickers)\n",
    "init_guess = num_assets * [1. / num_assets]\n",
    "bounds = tuple((0, 1) for _ in range(num_assets))\n",
    "constraints = {'type': 'eq', 'fun': lambda x: np.sum(x) - 1}"
   ]
  },
  {
   "cell_type": "markdown",
   "id": "bc53f58c",
   "metadata": {},
   "source": [
    "## 🚀 Step 7: Optimize the Portfolio"
   ]
  },
  {
   "cell_type": "code",
   "execution_count": 38,
   "id": "89c39162",
   "metadata": {},
   "outputs": [],
   "source": [
    "opt_result = minimize(\n",
    "    negative_sharpe_ratio,\n",
    "    init_guess,\n",
    "    args=(mean_returns, cov_matrix),\n",
    "    method='SLSQP',\n",
    "    bounds=bounds,\n",
    "    constraints=constraints\n",
    ")\n",
    "if not opt_result.success:\n",
    "    raise ValueError(\"Optimization failed: \" + opt_result.message)"
   ]
  },
  {
   "cell_type": "code",
   "execution_count": 39,
   "id": "a9a82f3d",
   "metadata": {},
   "outputs": [],
   "source": [
    "opt_weights = opt_result.x\n",
    "opt_return, opt_volatility = portfolio_performance(opt_weights, mean_returns, cov_matrix)\n",
    "opt_sharpe = (opt_return - 0.01) / opt_volatility\n",
    "\n"
   ]
  },
  {
   "cell_type": "markdown",
   "id": "b8822be3",
   "metadata": {},
   "source": [
    "## ✅ Step 8: Show Optimized Portfolio"
   ]
  },
  {
   "cell_type": "code",
   "execution_count": 41,
   "id": "220d771e",
   "metadata": {},
   "outputs": [
    {
     "name": "stdout",
     "output_type": "stream",
     "text": [
      "Optimal Portfolio Weights:\n",
      "AAPL: 49.07%\n",
      "MSFT: 0.00%\n",
      "GOOGL: 0.00%\n",
      "AMZN: 0.00%\n",
      "META: 50.93%\n",
      "\n",
      "Expected Annual Return: 27.64%\n",
      "Annual Volatility: 30.35%\n",
      "Sharpe Ratio: 0.88\n"
     ]
    }
   ],
   "source": [
    "\n",
    "print(\"Optimal Portfolio Weights:\")\n",
    "for ticker, weight in zip(tickers, opt_weights):\n",
    "    print(f\"{ticker}: {weight:.2%}\")\n",
    "\n",
    "print(f\"\\nExpected Annual Return: {opt_return:.2%}\")\n",
    "print(f\"Annual Volatility: {opt_volatility:.2%}\")\n",
    "print(f\"Sharpe Ratio: {opt_sharpe:.2f}\")\n"
   ]
  },
  {
   "cell_type": "markdown",
   "id": "019a4db1",
   "metadata": {},
   "source": [
    "## 🧠 Conclusion\n",
    "\n",
    "You just created an optimized portfolio using **Modern Portfolio Theory**!\n",
    "\n",
    "You learned to:\n",
    "- Download and analyze stock data\n",
    "- Calculate return & risk\n",
    "- Maximize the Sharpe Ratio 🚀\n",
    "\n",
    "Try it with different stocks or time ranges for more insights."
   ]
  }
 ],
 "metadata": {
  "kernelspec": {
   "display_name": "Python 3",
   "language": "python",
   "name": "python3"
  },
  "language_info": {
   "codemirror_mode": {
    "name": "ipython",
    "version": 3
   },
   "file_extension": ".py",
   "mimetype": "text/x-python",
   "name": "python",
   "nbconvert_exporter": "python",
   "pygments_lexer": "ipython3",
   "version": "3.11.0"
  }
 },
 "nbformat": 4,
 "nbformat_minor": 5
}
